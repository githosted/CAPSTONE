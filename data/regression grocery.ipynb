{
 "cells": [
  {
   "cell_type": "code",
   "execution_count": 1,
   "metadata": {},
   "outputs": [
    {
     "data": {
      "text/html": [
       "<div>\n",
       "<style scoped>\n",
       "    .dataframe tbody tr th:only-of-type {\n",
       "        vertical-align: middle;\n",
       "    }\n",
       "\n",
       "    .dataframe tbody tr th {\n",
       "        vertical-align: top;\n",
       "    }\n",
       "\n",
       "    .dataframe thead th {\n",
       "        text-align: right;\n",
       "    }\n",
       "</style>\n",
       "<table border=\"1\" class=\"dataframe\">\n",
       "  <thead>\n",
       "    <tr style=\"text-align: right;\">\n",
       "      <th></th>\n",
       "      <th>Region</th>\n",
       "      <th>Country</th>\n",
       "      <th>Item Type</th>\n",
       "      <th>Sales Channel</th>\n",
       "      <th>Order Priority</th>\n",
       "      <th>Order Date</th>\n",
       "      <th>Order ID</th>\n",
       "      <th>Ship Date</th>\n",
       "      <th>Units Sold</th>\n",
       "      <th>Unit Price</th>\n",
       "      <th>Unit Cost</th>\n",
       "      <th>Total Revenue</th>\n",
       "      <th>Total Cost</th>\n",
       "      <th>Total Profit</th>\n",
       "    </tr>\n",
       "  </thead>\n",
       "  <tbody>\n",
       "    <tr>\n",
       "      <th>0</th>\n",
       "      <td>Middle East and North Africa</td>\n",
       "      <td>Libya</td>\n",
       "      <td>Cosmetics</td>\n",
       "      <td>Offline</td>\n",
       "      <td>M</td>\n",
       "      <td>10/18/2014</td>\n",
       "      <td>686800706</td>\n",
       "      <td>10/31/2014</td>\n",
       "      <td>8446</td>\n",
       "      <td>437.20</td>\n",
       "      <td>263.33</td>\n",
       "      <td>3692591.20</td>\n",
       "      <td>2224085.18</td>\n",
       "      <td>1468506.02</td>\n",
       "    </tr>\n",
       "    <tr>\n",
       "      <th>1</th>\n",
       "      <td>North America</td>\n",
       "      <td>Canada</td>\n",
       "      <td>Vegetables</td>\n",
       "      <td>Online</td>\n",
       "      <td>M</td>\n",
       "      <td>11/07/2011</td>\n",
       "      <td>185941302</td>\n",
       "      <td>12/08/2011</td>\n",
       "      <td>3018</td>\n",
       "      <td>154.06</td>\n",
       "      <td>90.93</td>\n",
       "      <td>464953.08</td>\n",
       "      <td>274426.74</td>\n",
       "      <td>190526.34</td>\n",
       "    </tr>\n",
       "    <tr>\n",
       "      <th>2</th>\n",
       "      <td>Middle East and North Africa</td>\n",
       "      <td>Libya</td>\n",
       "      <td>Baby Food</td>\n",
       "      <td>Offline</td>\n",
       "      <td>C</td>\n",
       "      <td>10/31/2016</td>\n",
       "      <td>246222341</td>\n",
       "      <td>12/09/2016</td>\n",
       "      <td>1517</td>\n",
       "      <td>255.28</td>\n",
       "      <td>159.42</td>\n",
       "      <td>387259.76</td>\n",
       "      <td>241840.14</td>\n",
       "      <td>145419.62</td>\n",
       "    </tr>\n",
       "    <tr>\n",
       "      <th>3</th>\n",
       "      <td>Asia</td>\n",
       "      <td>Japan</td>\n",
       "      <td>Cereal</td>\n",
       "      <td>Offline</td>\n",
       "      <td>C</td>\n",
       "      <td>4/10/2010</td>\n",
       "      <td>161442649</td>\n",
       "      <td>5/12/2010</td>\n",
       "      <td>3322</td>\n",
       "      <td>205.70</td>\n",
       "      <td>117.11</td>\n",
       "      <td>683335.40</td>\n",
       "      <td>389039.42</td>\n",
       "      <td>294295.98</td>\n",
       "    </tr>\n",
       "    <tr>\n",
       "      <th>4</th>\n",
       "      <td>Sub-Saharan Africa</td>\n",
       "      <td>Chad</td>\n",
       "      <td>Fruits</td>\n",
       "      <td>Offline</td>\n",
       "      <td>H</td>\n",
       "      <td>8/16/2011</td>\n",
       "      <td>645713555</td>\n",
       "      <td>8/31/2011</td>\n",
       "      <td>9845</td>\n",
       "      <td>9.33</td>\n",
       "      <td>6.92</td>\n",
       "      <td>91853.85</td>\n",
       "      <td>68127.40</td>\n",
       "      <td>23726.45</td>\n",
       "    </tr>\n",
       "  </tbody>\n",
       "</table>\n",
       "</div>"
      ],
      "text/plain": [
       "                         Region Country   Item Type Sales Channel  \\\n",
       "0  Middle East and North Africa   Libya   Cosmetics       Offline   \n",
       "1                 North America  Canada  Vegetables        Online   \n",
       "2  Middle East and North Africa   Libya   Baby Food       Offline   \n",
       "3                          Asia   Japan      Cereal       Offline   \n",
       "4            Sub-Saharan Africa    Chad      Fruits       Offline   \n",
       "\n",
       "  Order Priority  Order Date   Order ID   Ship Date  Units Sold  Unit Price  \\\n",
       "0              M  10/18/2014  686800706  10/31/2014        8446      437.20   \n",
       "1              M  11/07/2011  185941302  12/08/2011        3018      154.06   \n",
       "2              C  10/31/2016  246222341  12/09/2016        1517      255.28   \n",
       "3              C   4/10/2010  161442649   5/12/2010        3322      205.70   \n",
       "4              H   8/16/2011  645713555   8/31/2011        9845        9.33   \n",
       "\n",
       "   Unit Cost  Total Revenue  Total Cost  Total Profit  \n",
       "0     263.33     3692591.20  2224085.18    1468506.02  \n",
       "1      90.93      464953.08   274426.74     190526.34  \n",
       "2     159.42      387259.76   241840.14     145419.62  \n",
       "3     117.11      683335.40   389039.42     294295.98  \n",
       "4       6.92       91853.85    68127.40      23726.45  "
      ]
     },
     "execution_count": 1,
     "metadata": {},
     "output_type": "execute_result"
    }
   ],
   "source": [
    "#Package imports needed\n",
    "import pandas as pd\n",
    "import numpy as np\n",
    "import matplotlib.pyplot as plt\n",
    "from sklearn.model_selection import train_test_split\n",
    "import statsmodels.api as sm\n",
    "import seaborn as sns\n",
    "from scipy import stats\n",
    "import scipy\n",
    "\n",
    "\n",
    "#Load the data as a data frame\n",
    "df = pd.read_csv('data\\\\1000.csv')\n",
    "\n",
    "\n",
    "# Get basic description of the data, looking the spread of the different variables,\n",
    "# along with  abrupt changes between the minimum, 25th, 50th, 75th, and max for the different variables\n",
    "df.head()"
   ]
  },
  {
   "cell_type": "code",
   "execution_count": 2,
   "metadata": {
    "pycharm": {
     "name": "#%%\n"
    }
   },
   "outputs": [
    {
     "name": "stdout",
     "output_type": "stream",
     "text": [
      "<class 'pandas.core.frame.DataFrame'>\n",
      "RangeIndex: 1000 entries, 0 to 999\n",
      "Data columns (total 14 columns):\n",
      " #   Column          Non-Null Count  Dtype  \n",
      "---  ------          --------------  -----  \n",
      " 0   Region          1000 non-null   object \n",
      " 1   Country         1000 non-null   object \n",
      " 2   Item Type       1000 non-null   object \n",
      " 3   Sales Channel   1000 non-null   object \n",
      " 4   Order Priority  1000 non-null   object \n",
      " 5   Order Date      1000 non-null   object \n",
      " 6   Order ID        1000 non-null   int64  \n",
      " 7   Ship Date       1000 non-null   object \n",
      " 8   Units Sold      1000 non-null   int64  \n",
      " 9   Unit Price      1000 non-null   float64\n",
      " 10  Unit Cost       1000 non-null   float64\n",
      " 11  Total Revenue   1000 non-null   float64\n",
      " 12  Total Cost      1000 non-null   float64\n",
      " 13  Total Profit    1000 non-null   float64\n",
      "dtypes: float64(5), int64(2), object(7)\n",
      "memory usage: 109.5+ KB\n"
     ]
    }
   ],
   "source": [
    "df.info()"
   ]
  },
  {
   "cell_type": "code",
   "execution_count": null,
   "metadata": {},
   "outputs": [],
   "source": [
    "df[''].astype(str).astype(int)\n",
    "data.head()"
   ]
  },
  {
   "cell_type": "code",
   "execution_count": 3,
   "metadata": {},
   "outputs": [],
   "source": [
    "df.drop(['Order ID', 'Order Date', 'Order Priority'], axis=1, inplace=True)\n",
    "#df.drop(['Unnamed: 0', 'vin', 'lot', 'country', 'condition'], axis=1, inplace=True)"
   ]
  },
  {
   "cell_type": "code",
   "execution_count": 4,
   "metadata": {},
   "outputs": [
    {
     "data": {
      "text/plain": [
       "Region           0\n",
       "Country          0\n",
       "Item Type        0\n",
       "Sales Channel    0\n",
       "Ship Date        0\n",
       "Units Sold       0\n",
       "Unit Price       0\n",
       "Unit Cost        0\n",
       "Total Revenue    0\n",
       "Total Cost       0\n",
       "Total Profit     0\n",
       "dtype: int64"
      ]
     },
     "execution_count": 4,
     "metadata": {},
     "output_type": "execute_result"
    }
   ],
   "source": [
    "#remove null values \n",
    "df.dropna()\n",
    "df.isnull().sum()"
   ]
  },
  {
   "cell_type": "code",
   "execution_count": 5,
   "metadata": {},
   "outputs": [
    {
     "data": {
      "text/html": [
       "<div>\n",
       "<style scoped>\n",
       "    .dataframe tbody tr th:only-of-type {\n",
       "        vertical-align: middle;\n",
       "    }\n",
       "\n",
       "    .dataframe tbody tr th {\n",
       "        vertical-align: top;\n",
       "    }\n",
       "\n",
       "    .dataframe thead th {\n",
       "        text-align: right;\n",
       "    }\n",
       "</style>\n",
       "<table border=\"1\" class=\"dataframe\">\n",
       "  <thead>\n",
       "    <tr style=\"text-align: right;\">\n",
       "      <th></th>\n",
       "      <th>Units Sold</th>\n",
       "      <th>Unit Price</th>\n",
       "      <th>Unit Cost</th>\n",
       "      <th>Total Revenue</th>\n",
       "      <th>Total Cost</th>\n",
       "      <th>Total Profit</th>\n",
       "    </tr>\n",
       "  </thead>\n",
       "  <tbody>\n",
       "    <tr>\n",
       "      <th>count</th>\n",
       "      <td>1000</td>\n",
       "      <td>1000</td>\n",
       "      <td>1000</td>\n",
       "      <td>1000</td>\n",
       "      <td>1000</td>\n",
       "      <td>1000</td>\n",
       "    </tr>\n",
       "    <tr>\n",
       "      <th>mean</th>\n",
       "      <td>5,053.99</td>\n",
       "      <td>262.11</td>\n",
       "      <td>184.97</td>\n",
       "      <td>1,327,321.84</td>\n",
       "      <td>936,119.23</td>\n",
       "      <td>391,202.61</td>\n",
       "    </tr>\n",
       "    <tr>\n",
       "      <th>std</th>\n",
       "      <td>2,901.38</td>\n",
       "      <td>216.02</td>\n",
       "      <td>175.29</td>\n",
       "      <td>1,486,514.56</td>\n",
       "      <td>1,162,570.75</td>\n",
       "      <td>383,640.19</td>\n",
       "    </tr>\n",
       "    <tr>\n",
       "      <th>min</th>\n",
       "      <td>13</td>\n",
       "      <td>9.33</td>\n",
       "      <td>6.92</td>\n",
       "      <td>2,043.25</td>\n",
       "      <td>1,416.75</td>\n",
       "      <td>532.61</td>\n",
       "    </tr>\n",
       "    <tr>\n",
       "      <th>25%</th>\n",
       "      <td>2,420.25</td>\n",
       "      <td>81.73</td>\n",
       "      <td>56.67</td>\n",
       "      <td>281,191.90</td>\n",
       "      <td>164,931.88</td>\n",
       "      <td>98,376.12</td>\n",
       "    </tr>\n",
       "    <tr>\n",
       "      <th>50%</th>\n",
       "      <td>5184</td>\n",
       "      <td>154.06</td>\n",
       "      <td>97.44</td>\n",
       "      <td>754,939.18</td>\n",
       "      <td>464,726.07</td>\n",
       "      <td>277,225.98</td>\n",
       "    </tr>\n",
       "    <tr>\n",
       "      <th>75%</th>\n",
       "      <td>7,536.75</td>\n",
       "      <td>421.89</td>\n",
       "      <td>263.33</td>\n",
       "      <td>1,733,502.75</td>\n",
       "      <td>1,141,750.09</td>\n",
       "      <td>548,456.83</td>\n",
       "    </tr>\n",
       "    <tr>\n",
       "      <th>max</th>\n",
       "      <td>9998</td>\n",
       "      <td>668.27</td>\n",
       "      <td>524.96</td>\n",
       "      <td>6,617,209.54</td>\n",
       "      <td>5,204,978.40</td>\n",
       "      <td>1,726,181.36</td>\n",
       "    </tr>\n",
       "  </tbody>\n",
       "</table>\n",
       "</div>"
      ],
      "text/plain": [
       "       Units Sold  Unit Price  Unit Cost  Total Revenue   Total Cost  \\\n",
       "count        1000        1000       1000           1000         1000   \n",
       "mean     5,053.99      262.11     184.97   1,327,321.84   936,119.23   \n",
       "std      2,901.38      216.02     175.29   1,486,514.56 1,162,570.75   \n",
       "min            13        9.33       6.92       2,043.25     1,416.75   \n",
       "25%      2,420.25       81.73      56.67     281,191.90   164,931.88   \n",
       "50%          5184      154.06      97.44     754,939.18   464,726.07   \n",
       "75%      7,536.75      421.89     263.33   1,733,502.75 1,141,750.09   \n",
       "max          9998      668.27     524.96   6,617,209.54 5,204,978.40   \n",
       "\n",
       "       Total Profit  \n",
       "count          1000  \n",
       "mean     391,202.61  \n",
       "std      383,640.19  \n",
       "min          532.61  \n",
       "25%       98,376.12  \n",
       "50%      277,225.98  \n",
       "75%      548,456.83  \n",
       "max    1,726,181.36  "
      ]
     },
     "execution_count": 5,
     "metadata": {},
     "output_type": "execute_result"
    }
   ],
   "source": [
    "pd.options.display.float_format = lambda x : '{:.0f}'.format(x) if int(x) == x else '{:,.2f}'.format(x)\n",
    "df.describe()"
   ]
  },
  {
   "cell_type": "code",
   "execution_count": 6,
   "metadata": {},
   "outputs": [
    {
     "data": {
      "text/html": [
       "<div>\n",
       "<style scoped>\n",
       "    .dataframe tbody tr th:only-of-type {\n",
       "        vertical-align: middle;\n",
       "    }\n",
       "\n",
       "    .dataframe tbody tr th {\n",
       "        vertical-align: top;\n",
       "    }\n",
       "\n",
       "    .dataframe thead th {\n",
       "        text-align: right;\n",
       "    }\n",
       "</style>\n",
       "<table border=\"1\" class=\"dataframe\">\n",
       "  <thead>\n",
       "    <tr style=\"text-align: right;\">\n",
       "      <th></th>\n",
       "      <th>Units Sold</th>\n",
       "      <th>Unit Price</th>\n",
       "      <th>Unit Cost</th>\n",
       "      <th>Total Revenue</th>\n",
       "      <th>Total Cost</th>\n",
       "      <th>Total Profit</th>\n",
       "    </tr>\n",
       "  </thead>\n",
       "  <tbody>\n",
       "    <tr>\n",
       "      <th>Units Sold</th>\n",
       "      <td>1</td>\n",
       "      <td>0.00</td>\n",
       "      <td>0.00</td>\n",
       "      <td>0.53</td>\n",
       "      <td>0.48</td>\n",
       "      <td>0.59</td>\n",
       "    </tr>\n",
       "    <tr>\n",
       "      <th>Unit Price</th>\n",
       "      <td>0.00</td>\n",
       "      <td>1</td>\n",
       "      <td>0.99</td>\n",
       "      <td>0.73</td>\n",
       "      <td>0.75</td>\n",
       "      <td>0.57</td>\n",
       "    </tr>\n",
       "    <tr>\n",
       "      <th>Unit Cost</th>\n",
       "      <td>0.00</td>\n",
       "      <td>0.99</td>\n",
       "      <td>1</td>\n",
       "      <td>0.72</td>\n",
       "      <td>0.75</td>\n",
       "      <td>0.50</td>\n",
       "    </tr>\n",
       "    <tr>\n",
       "      <th>Total Revenue</th>\n",
       "      <td>0.53</td>\n",
       "      <td>0.73</td>\n",
       "      <td>0.72</td>\n",
       "      <td>1</td>\n",
       "      <td>0.99</td>\n",
       "      <td>0.88</td>\n",
       "    </tr>\n",
       "    <tr>\n",
       "      <th>Total Cost</th>\n",
       "      <td>0.48</td>\n",
       "      <td>0.75</td>\n",
       "      <td>0.75</td>\n",
       "      <td>0.99</td>\n",
       "      <td>1</td>\n",
       "      <td>0.80</td>\n",
       "    </tr>\n",
       "    <tr>\n",
       "      <th>Total Profit</th>\n",
       "      <td>0.59</td>\n",
       "      <td>0.57</td>\n",
       "      <td>0.50</td>\n",
       "      <td>0.88</td>\n",
       "      <td>0.80</td>\n",
       "      <td>1</td>\n",
       "    </tr>\n",
       "  </tbody>\n",
       "</table>\n",
       "</div>"
      ],
      "text/plain": [
       "               Units Sold  Unit Price  Unit Cost  Total Revenue  Total Cost  \\\n",
       "Units Sold              1        0.00       0.00           0.53        0.48   \n",
       "Unit Price           0.00           1       0.99           0.73        0.75   \n",
       "Unit Cost            0.00        0.99          1           0.72        0.75   \n",
       "Total Revenue        0.53        0.73       0.72              1        0.99   \n",
       "Total Cost           0.48        0.75       0.75           0.99           1   \n",
       "Total Profit         0.59        0.57       0.50           0.88        0.80   \n",
       "\n",
       "               Total Profit  \n",
       "Units Sold             0.59  \n",
       "Unit Price             0.57  \n",
       "Unit Cost              0.50  \n",
       "Total Revenue          0.88  \n",
       "Total Cost             0.80  \n",
       "Total Profit              1  "
      ]
     },
     "execution_count": 6,
     "metadata": {},
     "output_type": "execute_result"
    }
   ],
   "source": [
    "#Look at correlations between variables to identify best predictor for response (score)\n",
    "df.corr()"
   ]
  },
  {
   "cell_type": "code",
   "execution_count": 7,
   "metadata": {},
   "outputs": [
    {
     "data": {
      "image/png": "[encoded data removed]",
      "text/plain": [
       "<Figure size 432x288 with 2 Axes>"
      ]
     },
     "metadata": {
      "needs_background": "light"
     },
     "output_type": "display_data"
    }
   ],
   "source": [
    "#creating a heatmap to learn even more \n",
    "import seaborn as sns\n",
    "sns.heatmap(df.corr(), center=0);"
   ]
  },
  {
   "cell_type": "code",
   "execution_count": 8,
   "metadata": {
    "pycharm": {
     "name": "#%%\n"
    }
   },
   "outputs": [
    {
     "data": {
      "image/png": "[encoded data removed]",
      "text/plain": [
       "<Figure size 432x288 with 1 Axes>"
      ]
     },
     "metadata": {
      "needs_background": "light"
     },
     "output_type": "display_data"
    }
   ],
   "source": [
    "#Let's plot cost vs. score\n",
    "plt.scatter(df['Total Revenue'], df['Units Sold']);\n",
    "\n",
    "#Strong linear association between cost and score, maybe some concern with model\n"
   ]
  },
  {
   "cell_type": "code",
   "execution_count": 9,
   "metadata": {
    "pycharm": {
     "name": "#%%\n"
    }
   },
   "outputs": [
    {
     "ename": "KeyError",
     "evalue": "'Cost'",
     "output_type": "error",
     "traceback": [
      "\u001b[1;31m---------------------------------------------------------------------------\u001b[0m",
      "\u001b[1;31mKeyError\u001b[0m                                  Traceback (most recent call last)",
      "\u001b[1;32m~\\anaconda3\\lib\\site-packages\\pandas\\core\\indexes\\base.py\u001b[0m in \u001b[0;36mget_loc\u001b[1;34m(self, key, method, tolerance)\u001b[0m\n\u001b[0;32m   3360\u001b[0m             \u001b[1;32mtry\u001b[0m\u001b[1;33m:\u001b[0m\u001b[1;33m\u001b[0m\u001b[1;33m\u001b[0m\u001b[0m\n\u001b[1;32m-> 3361\u001b[1;33m                 \u001b[1;32mreturn\u001b[0m \u001b[0mself\u001b[0m\u001b[1;33m.\u001b[0m\u001b[0m_engine\u001b[0m\u001b[1;33m.\u001b[0m\u001b[0mget_loc\u001b[0m\u001b[1;33m(\u001b[0m\u001b[0mcasted_key\u001b[0m\u001b[1;33m)\u001b[0m\u001b[1;33m\u001b[0m\u001b[1;33m\u001b[0m\u001b[0m\n\u001b[0m\u001b[0;32m   3362\u001b[0m             \u001b[1;32mexcept\u001b[0m \u001b[0mKeyError\u001b[0m \u001b[1;32mas\u001b[0m \u001b[0merr\u001b[0m\u001b[1;33m:\u001b[0m\u001b[1;33m\u001b[0m\u001b[1;33m\u001b[0m\u001b[0m\n",
      "\u001b[1;32m~\\anaconda3\\lib\\site-packages\\pandas\\_libs\\index.pyx\u001b[0m in \u001b[0;36mpandas._libs.index.IndexEngine.get_loc\u001b[1;34m()\u001b[0m\n",
      "\u001b[1;32m~\\anaconda3\\lib\\site-packages\\pandas\\_libs\\index.pyx\u001b[0m in \u001b[0;36mpandas._libs.index.IndexEngine.get_loc\u001b[1;34m()\u001b[0m\n",
      "\u001b[1;32mpandas\\_libs\\hashtable_class_helper.pxi\u001b[0m in \u001b[0;36mpandas._libs.hashtable.PyObjectHashTable.get_item\u001b[1;34m()\u001b[0m\n",
      "\u001b[1;32mpandas\\_libs\\hashtable_class_helper.pxi\u001b[0m in \u001b[0;36mpandas._libs.hashtable.PyObjectHashTable.get_item\u001b[1;34m()\u001b[0m\n",
      "\u001b[1;31mKeyError\u001b[0m: 'Cost'",
      "\nThe above exception was the direct cause of the following exception:\n",
      "\u001b[1;31mKeyError\u001b[0m                                  Traceback (most recent call last)",
      "\u001b[1;32m~\\AppData\\Local\\Temp/ipykernel_21564/17552824.py\u001b[0m in \u001b[0;36m<module>\u001b[1;34m\u001b[0m\n\u001b[0;32m      1\u001b[0m \u001b[1;31m#Assign x, y then do training testing split\u001b[0m\u001b[1;33m\u001b[0m\u001b[1;33m\u001b[0m\u001b[0m\n\u001b[1;32m----> 2\u001b[1;33m \u001b[0mx\u001b[0m\u001b[1;33m=\u001b[0m\u001b[0mdf\u001b[0m\u001b[1;33m[\u001b[0m\u001b[1;34m'Cost'\u001b[0m\u001b[1;33m]\u001b[0m\u001b[1;33m\u001b[0m\u001b[1;33m\u001b[0m\u001b[0m\n\u001b[0m\u001b[0;32m      3\u001b[0m \u001b[0my\u001b[0m\u001b[1;33m=\u001b[0m\u001b[0mdf\u001b[0m\u001b[1;33m[\u001b[0m\u001b[1;34m'Score'\u001b[0m\u001b[1;33m]\u001b[0m\u001b[1;33m\u001b[0m\u001b[1;33m\u001b[0m\u001b[0m\n\u001b[0;32m      4\u001b[0m \u001b[1;33m\u001b[0m\u001b[0m\n\u001b[0;32m      5\u001b[0m \u001b[1;31m#Splitting with 75% training, 25% testing data\u001b[0m\u001b[1;33m\u001b[0m\u001b[1;33m\u001b[0m\u001b[0m\n",
      "\u001b[1;32m~\\anaconda3\\lib\\site-packages\\pandas\\core\\frame.py\u001b[0m in \u001b[0;36m__getitem__\u001b[1;34m(self, key)\u001b[0m\n\u001b[0;32m   3456\u001b[0m             \u001b[1;32mif\u001b[0m \u001b[0mself\u001b[0m\u001b[1;33m.\u001b[0m\u001b[0mcolumns\u001b[0m\u001b[1;33m.\u001b[0m\u001b[0mnlevels\u001b[0m \u001b[1;33m>\u001b[0m \u001b[1;36m1\u001b[0m\u001b[1;33m:\u001b[0m\u001b[1;33m\u001b[0m\u001b[1;33m\u001b[0m\u001b[0m\n\u001b[0;32m   3457\u001b[0m                 \u001b[1;32mreturn\u001b[0m \u001b[0mself\u001b[0m\u001b[1;33m.\u001b[0m\u001b[0m_getitem_multilevel\u001b[0m\u001b[1;33m(\u001b[0m\u001b[0mkey\u001b[0m\u001b[1;33m)\u001b[0m\u001b[1;33m\u001b[0m\u001b[1;33m\u001b[0m\u001b[0m\n\u001b[1;32m-> 3458\u001b[1;33m             \u001b[0mindexer\u001b[0m \u001b[1;33m=\u001b[0m \u001b[0mself\u001b[0m\u001b[1;33m.\u001b[0m\u001b[0mcolumns\u001b[0m\u001b[1;33m.\u001b[0m\u001b[0mget_loc\u001b[0m\u001b[1;33m(\u001b[0m\u001b[0mkey\u001b[0m\u001b[1;33m)\u001b[0m\u001b[1;33m\u001b[0m\u001b[1;33m\u001b[0m\u001b[0m\n\u001b[0m\u001b[0;32m   3459\u001b[0m             \u001b[1;32mif\u001b[0m \u001b[0mis_integer\u001b[0m\u001b[1;33m(\u001b[0m\u001b[0mindexer\u001b[0m\u001b[1;33m)\u001b[0m\u001b[1;33m:\u001b[0m\u001b[1;33m\u001b[0m\u001b[1;33m\u001b[0m\u001b[0m\n\u001b[0;32m   3460\u001b[0m                 \u001b[0mindexer\u001b[0m \u001b[1;33m=\u001b[0m \u001b[1;33m[\u001b[0m\u001b[0mindexer\u001b[0m\u001b[1;33m]\u001b[0m\u001b[1;33m\u001b[0m\u001b[1;33m\u001b[0m\u001b[0m\n",
      "\u001b[1;32m~\\anaconda3\\lib\\site-packages\\pandas\\core\\indexes\\base.py\u001b[0m in \u001b[0;36mget_loc\u001b[1;34m(self, key, method, tolerance)\u001b[0m\n\u001b[0;32m   3361\u001b[0m                 \u001b[1;32mreturn\u001b[0m \u001b[0mself\u001b[0m\u001b[1;33m.\u001b[0m\u001b[0m_engine\u001b[0m\u001b[1;33m.\u001b[0m\u001b[0mget_loc\u001b[0m\u001b[1;33m(\u001b[0m\u001b[0mcasted_key\u001b[0m\u001b[1;33m)\u001b[0m\u001b[1;33m\u001b[0m\u001b[1;33m\u001b[0m\u001b[0m\n\u001b[0;32m   3362\u001b[0m             \u001b[1;32mexcept\u001b[0m \u001b[0mKeyError\u001b[0m \u001b[1;32mas\u001b[0m \u001b[0merr\u001b[0m\u001b[1;33m:\u001b[0m\u001b[1;33m\u001b[0m\u001b[1;33m\u001b[0m\u001b[0m\n\u001b[1;32m-> 3363\u001b[1;33m                 \u001b[1;32mraise\u001b[0m \u001b[0mKeyError\u001b[0m\u001b[1;33m(\u001b[0m\u001b[0mkey\u001b[0m\u001b[1;33m)\u001b[0m \u001b[1;32mfrom\u001b[0m \u001b[0merr\u001b[0m\u001b[1;33m\u001b[0m\u001b[1;33m\u001b[0m\u001b[0m\n\u001b[0m\u001b[0;32m   3364\u001b[0m \u001b[1;33m\u001b[0m\u001b[0m\n\u001b[0;32m   3365\u001b[0m         \u001b[1;32mif\u001b[0m \u001b[0mis_scalar\u001b[0m\u001b[1;33m(\u001b[0m\u001b[0mkey\u001b[0m\u001b[1;33m)\u001b[0m \u001b[1;32mand\u001b[0m \u001b[0misna\u001b[0m\u001b[1;33m(\u001b[0m\u001b[0mkey\u001b[0m\u001b[1;33m)\u001b[0m \u001b[1;32mand\u001b[0m \u001b[1;32mnot\u001b[0m \u001b[0mself\u001b[0m\u001b[1;33m.\u001b[0m\u001b[0mhasnans\u001b[0m\u001b[1;33m:\u001b[0m\u001b[1;33m\u001b[0m\u001b[1;33m\u001b[0m\u001b[0m\n",
      "\u001b[1;31mKeyError\u001b[0m: 'Cost'"
     ]
    }
   ],
   "source": [
    "#Assign x, y then do training testing split\n",
    "x=df['Total Revenue']\n",
    "y=df['Score']\n",
    "\n",
    "#Splitting with 75% training, 25% testing data\n",
    "x_train, x_test, y_train, y_test = train_test_split(x, y, train_size = 0.75,\n",
    "                                                    test_size = 0.25, random_state = 100)"
   ]
  },
  {
   "cell_type": "code",
   "execution_count": null,
   "metadata": {
    "pycharm": {
     "name": "#%%\n"
    }
   },
   "outputs": [],
   "source": [
    "#statsmodel approach to regression\n",
    "# fit the model\n",
    "lr = sm.OLS(y_train, x_train).fit()\n",
    "\n",
    "# Printing the parameters\n",
    "lr.params\n",
    "lr.summary()\n",
    "\n",
    "#force intercept term\n",
    "x_train_with_intercept = sm.add_constant(x_train)\n",
    "lr = sm.OLS(y_train, x_train_with_intercept).fit()\n",
    "lr.summary()\n"
   ]
  },
  {
   "cell_type": "code",
   "execution_count": null,
   "metadata": {
    "pycharm": {
     "name": "#%%\n"
    }
   },
   "outputs": [],
   "source": [
    "#Extract the B0, B1\n",
    "print(lr.params)\n",
    "b0=lr.params[0]\n",
    "b1=lr.params[1]\n",
    "\n",
    "#Plot the fitted line on training data\n",
    "plt.scatter(x_train, y_train)\n",
    "plt.plot(x_train, b0+ b1*x_train, 'r')\n",
    "plt.show()"
   ]
  },
  {
   "cell_type": "code",
   "execution_count": null,
   "metadata": {
    "pycharm": {
     "name": "#%%\n"
    }
   },
   "outputs": [],
   "source": [
    "#Plot the fitted line on test data\n",
    "\n",
    "x_test_with_intercept = sm.add_constant(x_test)\n",
    "y_test_fitted = lr.predict(x_test_with_intercept)\n",
    "\n",
    "\n",
    "plt.scatter(x_test, y_test)\n",
    "plt.plot(x_test, y_test_fitted, 'r')\n",
    "plt.show()\n",
    "\n",
    "\n",
    "\n",
    "\n",
    "\n",
    "\n"
   ]
  },
  {
   "cell_type": "code",
   "execution_count": null,
   "metadata": {
    "pycharm": {
     "name": "#%%\n"
    }
   },
   "outputs": [],
   "source": [
    "#DIAGNOSTICS\n",
    "\n",
    "#CHECKLIST:\n",
    "# NON-LINEARITY\n",
    "# NON-CONSTANT VARIANCE\n",
    "# DEVIATIONS FROM NORMALITY\n",
    "# ERRORS NOT IID\n",
    "# OUTLIERS\n",
    "# MISSING PREDICTORS\n",
    "\n",
    "\n",
    "\n",
    "#Build predictions on training data\n",
    "predictions_y = lr.predict(x_train_with_intercept)\n",
    "\n",
    "#Find residuals\n",
    "r_i = (y_train - predictions_y)\n",
    "\n",
    "\n",
    "#Residuals vs. predictor in training data\n",
    "plt.title(' Residuals vs. Cost')\n",
    "plt.xlabel('Cost',fontsize=15)\n",
    "plt.scatter(x_train, r_i)\n",
    "plt.show()\n",
    "\n",
    "\n",
    "\n",
    "\n",
    "#Absolute residuals against predictor\n",
    "abs_r_i = np.abs(y_train - predictions_y)\n",
    "plt.title('Absolute Residuals vs. Cost')\n",
    "plt.xlabel('Cost',fontsize=15)\n",
    "plt.scatter(x_train, abs_r_i)\n",
    "plt.show()\n",
    "\n",
    "#Normality plot\n",
    "scipy.stats.probplot(r_i,plot=plt)\n",
    "\n",
    "#Tails might be a little heavy, but overall no clear reason to reject normality expectations\n",
    "# Evaluate normality through histogram of residuals\n",
    "# Plotting the histogram using the residual values\n",
    "fig = plt.figure()\n",
    "sns.distplot(r_i, bins = 15)\n",
    "plt.title('Error Terms', fontsize = 15)\n",
    "plt.xlabel('y_train - y_train_pred', fontsize = 15)\n",
    "plt.show()\n",
    "\n",
    "#Boxplot for outliers\n",
    "# plot\n",
    "plt.boxplot(r_i, boxprops=dict(color='red'))\n",
    "plt.title('Residual Boxplot');"
   ]
  },
  {
   "cell_type": "code",
   "execution_count": null,
   "metadata": {
    "pycharm": {
     "name": "#%%\n"
    }
   },
   "outputs": [],
   "source": [
    "#Demo of how to deal with non-constant variance through transformations\n",
    "\n",
    "test_residuals=(y_test-y_test_fitted)\n",
    "len(y_test)\n",
    "len(y_test_fitted)\n",
    "len(test_residuals)\n",
    "\n",
    "#Residuals vs. predictor in test set\n",
    "plt.title('Test Residuals vs. Cost')\n",
    "plt.xlabel('Cost',fontsize=15)\n",
    "plt.scatter(x_test, test_residuals)\n",
    "plt.show()\n",
    "\n",
    "#Some evidence of non-constant variance\n",
    "\n",
    "\n"
   ]
  },
  {
   "cell_type": "code",
   "execution_count": null,
   "metadata": {
    "pycharm": {
     "name": "#%%\n"
    }
   },
   "outputs": [],
   "source": [
    "#\n",
    "\n",
    "#Try sqrt\n",
    "sqrt_y=np.sqrt(y)\n",
    "plt.scatter(x, sqrt_y,color='red');\n",
    "\n",
    "#Try ln\n",
    "ln_y=np.log(y)\n",
    "plt.scatter(x, ln_y,color='blue');\n",
    "\n",
    "\n",
    "#Let's try a BC transformation\n",
    "\n",
    "#Box Cox procedure on all cost\n",
    "bc_y=list(stats.boxcox(y))\n",
    "bc_y=bc_y[0]\n",
    "plt.scatter(x, bc_y,color='orange');\n",
    "\n",
    "#Overall, most satisfied with the sqrt transformation"
   ]
  },
  {
   "cell_type": "code",
   "execution_count": null,
   "metadata": {
    "pycharm": {
     "name": "#%%\n"
    }
   },
   "outputs": [],
   "source": [
    "#Run regression on this set\n",
    "\n",
    "x_train, x_test, y_train, y_test = train_test_split(x, sqrt_y, train_size = 0.75,\n",
    "                                                    test_size = 0.25, random_state = 100)\n",
    "\n",
    "\n",
    "#force intercept term\n",
    "x_train_with_intercept = sm.add_constant(x_train)\n",
    "lr = sm.OLS(y_train, x_train_with_intercept).fit()\n",
    "lr.summary()\n"
   ]
  },
  {
   "cell_type": "code",
   "execution_count": null,
   "metadata": {
    "pycharm": {
     "name": "#%%\n"
    }
   },
   "outputs": [],
   "source": [
    "#Extract the B0, B1\n",
    "print(lr.params)\n",
    "b0=lr.params[0]\n",
    "b1=lr.params[1]\n",
    "\n",
    "#Plot the fitted line on training data\n",
    "plt.scatter(x_train, y_train)\n",
    "plt.plot(x_train, b0+ b1*x_train, 'r')\n",
    "plt.show()"
   ]
  },
  {
   "cell_type": "code",
   "execution_count": null,
   "metadata": {
    "pycharm": {
     "name": "#%%\n"
    }
   },
   "outputs": [],
   "source": [
    "#Plot the fitted line on test data\n",
    "\n",
    "x_test_with_intercept = sm.add_constant(x_test)\n",
    "y_test_fitted = lr.predict(x_test_with_intercept)\n",
    "\n",
    "\n",
    "plt.scatter(x_test, y_test)\n",
    "plt.plot(x_test, y_test_fitted, 'r')\n",
    "plt.show()\n",
    "\n",
    "#Evaluate variance\n",
    "#Diagnostics\n",
    "test_residuals=(y_test-y_test_fitted)\n",
    "len(y_test)\n",
    "len(y_test_fitted)\n",
    "len(test_residuals)\n",
    "\n",
    "#Residuals vs. predictor\n",
    "plt.title('Residuals vs. Cost')\n",
    "plt.xlabel('Cost',fontsize=15)\n",
    "plt.scatter(x_test, test_residuals)\n",
    "plt.show()\n",
    "\n",
    "#Non-constant variance reduced, but we also reduced our coefficient of determination"
   ]
  }
 ],
 "metadata": {
  "kernelspec": {
   "display_name": "Python 3 (ipykernel)",
   "language": "python",
   "name": "python3"
  },
  "language_info": {
   "codemirror_mode": {
    "name": "ipython",
    "version": 3
   },
   "file_extension": ".py",
   "mimetype": "text/x-python",
   "name": "python",
   "nbconvert_exporter": "python",
   "pygments_lexer": "ipython3",
   "version": "3.9.7"
  }
 },
 "nbformat": 4,
 "nbformat_minor": 1
}
